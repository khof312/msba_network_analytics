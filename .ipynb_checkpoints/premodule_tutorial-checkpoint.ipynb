{
 "cells": [
  {
   "cell_type": "markdown",
   "metadata": {
    "toc": true
   },
   "source": [
    "<h1>Table of Contents<span class=\"tocSkip\"></span></h1>\n",
    "<div class=\"toc\"><ul class=\"toc-item\"><li><span><a href=\"#What-do-we-need-this-for?\" data-toc-modified-id=\"What-do-we-need-this-for?-1\"><span class=\"toc-item-num\">1&nbsp;&nbsp;</span>What do we need this for?</a></span></li><li><span><a href=\"#Basic-iGraph-functionality\" data-toc-modified-id=\"Basic-iGraph-functionality-2\"><span class=\"toc-item-num\">2&nbsp;&nbsp;</span>Basic iGraph functionality</a></span><ul class=\"toc-item\"><li><span><a href=\"#Load-a-text-file-into-an-iGraph-graph\" data-toc-modified-id=\"Load-a-text-file-into-an-iGraph-graph-2.1\"><span class=\"toc-item-num\">2.1&nbsp;&nbsp;</span>Load a text file into an iGraph graph</a></span></li><li><span><a href=\"#Inspect-the-results\" data-toc-modified-id=\"Inspect-the-results-2.2\"><span class=\"toc-item-num\">2.2&nbsp;&nbsp;</span>Inspect the results</a></span></li><li><span><a href=\"#Plot-the-graph\" data-toc-modified-id=\"Plot-the-graph-2.3\"><span class=\"toc-item-num\">2.3&nbsp;&nbsp;</span>Plot the graph</a></span></li><li><span><a href=\"#Calculate-a-metric-about-the-graph\" data-toc-modified-id=\"Calculate-a-metric-about-the-graph-2.4\"><span class=\"toc-item-num\">2.4&nbsp;&nbsp;</span>Calculate a metric about the graph</a></span></li></ul></li><li><span><a href=\"#Working-with-arrays,-tables,-and-plots\" data-toc-modified-id=\"Working-with-arrays,-tables,-and-plots-3\"><span class=\"toc-item-num\">3&nbsp;&nbsp;</span>Working with arrays, tables, and plots</a></span><ul class=\"toc-item\"><li><span><a href=\"#Selecting\" data-toc-modified-id=\"Selecting-3.1\"><span class=\"toc-item-num\">3.1&nbsp;&nbsp;</span>Selecting</a></span></li><li><span><a href=\"#Sorting\" data-toc-modified-id=\"Sorting-3.2\"><span class=\"toc-item-num\">3.2&nbsp;&nbsp;</span>Sorting</a></span></li><li><span><a href=\"#Counting-frequencies\" data-toc-modified-id=\"Counting-frequencies-3.3\"><span class=\"toc-item-num\">3.3&nbsp;&nbsp;</span>Counting frequencies</a></span></li><li><span><a href=\"#Plotting\" data-toc-modified-id=\"Plotting-3.4\"><span class=\"toc-item-num\">3.4&nbsp;&nbsp;</span>Plotting</a></span></li></ul></li><li><span><a href=\"#Quick-refresher-on-logs\" data-toc-modified-id=\"Quick-refresher-on-logs-4\"><span class=\"toc-item-num\">4&nbsp;&nbsp;</span>Quick refresher on logs</a></span></li></ul></div>"
   ]
  },
  {
   "cell_type": "code",
   "execution_count": 1,
   "metadata": {},
   "outputs": [
    {
     "name": "stderr",
     "output_type": "stream",
     "text": [
      "\n",
      "Attaching package: 'igraph'\n",
      "\n",
      "The following objects are masked from 'package:stats':\n",
      "\n",
      "    decompose, spectrum\n",
      "\n",
      "The following object is masked from 'package:base':\n",
      "\n",
      "    union\n",
      "\n"
     ]
    }
   ],
   "source": [
    "library(igraph)\n",
    "library(ggplot2)"
   ]
  },
  {
   "cell_type": "markdown",
   "metadata": {},
   "source": [
    "## What do we need this for?"
   ]
  },
  {
   "cell_type": "markdown",
   "metadata": {},
   "source": [
    "Basically, working with network data is complicated for two reasons:\n",
    "- **The type of data you need to store is a bit unusual** - it's not just a standard table, because you need (1) information on edges (2) information on nodes. So, often these packages create custom \"graph\" objects that can store data on both.\n",
    "- **The type of calculations you need to do are a bit unusual** - for example you might want to calculate degrees or pagerank. So, they also contain custom methods that help you do this with very little code.\n",
    "\n",
    "That is why we use packages like [iGraph](https://igraph.org/r/doc/) or [NetworkX](https://networkx.github.io/documentation/stable/) - they just make it easier on us, though we could theoretically code the calculations by hand ourselves.\n",
    "\n",
    "Let's try it out!"
   ]
  },
  {
   "cell_type": "markdown",
   "metadata": {},
   "source": [
    "## Basic iGraph functionality"
   ]
  },
  {
   "cell_type": "markdown",
   "metadata": {},
   "source": [
    "### Load a text file into an iGraph graph"
   ]
  },
  {
   "cell_type": "markdown",
   "metadata": {},
   "source": [
    "Let's take a sample, classic graph: [Zachary's Karate club](https://en.wikipedia.org/wiki/Zachary%27s_karate_club). \n",
    "\n",
    "(Actually, the network is already included in the iGraph package, but just to show how one would read in an external file...)"
   ]
  },
  {
   "cell_type": "code",
   "execution_count": 2,
   "metadata": {},
   "outputs": [
    {
     "data": {
      "text/plain": [
       "IGRAPH 2d0bea4 UN-- 34 78 -- \n",
       "+ attr: name (v/c)\n",
       "+ edges from 2d0bea4 (vertex names):\n",
       " [1] 0 --1  0 --2  0 --3  0 --4  0 --5  0 --6  0 --7  0 --8  0 --10 0 --11\n",
       "[11] 0 --12 0 --13 0 --17 0 --19 0 --21 0 --31 1 --2  1 --3  1 --7  1 --13\n",
       "[21] 1 --17 1 --19 1 --21 1 --30 2 --3  2 --7  2 --8  2 --9  2 --13 2 --27\n",
       "[31] 2 --28 2 --32 3 --7  3 --12 3 --13 4 --6  4 --10 5 --6  5 --10 5 --16\n",
       "[41] 6 --16 8 --30 8 --32 8 --33 9 --33 13--33 32--14 33--14 32--15 33--15\n",
       "[51] 32--18 33--18 19--33 32--20 33--20 32--22 33--22 23--25 27--23 23--29\n",
       "[61] 32--23 33--23 25--24 27--24 31--24 31--25 29--26 33--26 27--33 31--28\n",
       "[71] 28--33 32--29 33--29 30--32 30--33 31--32 31--33 32--33"
      ]
     },
     "metadata": {},
     "output_type": "display_data"
    }
   ],
   "source": [
    "# Let's take our text file space-separated edges and put it into an iGraph graph\n",
    "karate <- read.graph(file=\"data/zachary.txt\", format =\"ncol\", directed=FALSE)\n",
    "karate"
   ]
  },
  {
   "cell_type": "markdown",
   "metadata": {},
   "source": [
    "### Inspect the results\n",
    "\n",
    "The graph object prints out some useful information:\n",
    "\n",
    "<img src=\"fig/igraph_output_annotated.png\" width=80% align=\"left\">"
   ]
  },
  {
   "cell_type": "markdown",
   "metadata": {},
   "source": [
    "Alternatively, we can manually inspect:"
   ]
  },
  {
   "cell_type": "code",
   "execution_count": 3,
   "metadata": {},
   "outputs": [
    {
     "data": {
      "text/html": [
       "78"
      ],
      "text/latex": [
       "78"
      ],
      "text/markdown": [
       "78"
      ],
      "text/plain": [
       "[1] 78"
      ]
     },
     "metadata": {},
     "output_type": "display_data"
    },
    {
     "data": {
      "text/html": [
       "34"
      ],
      "text/latex": [
       "34"
      ],
      "text/markdown": [
       "34"
      ],
      "text/plain": [
       "[1] 34"
      ]
     },
     "metadata": {},
     "output_type": "display_data"
    }
   ],
   "source": [
    "# How many nodes?\n",
    "vcount(karate)\n",
    "\n",
    "# How many edges?\n",
    "ecount(karate)"
   ]
  },
  {
   "cell_type": "code",
   "execution_count": 4,
   "metadata": {},
   "outputs": [
    {
     "data": {
      "text/plain": [
       "+ 78/78 edges from 2d0bea4 (vertex names):\n",
       " [1] 0 --1  0 --2  0 --3  0 --4  0 --5  0 --6  0 --7  0 --8  0 --10 0 --11\n",
       "[11] 0 --12 0 --13 0 --17 0 --19 0 --21 0 --31 1 --2  1 --3  1 --7  1 --13\n",
       "[21] 1 --17 1 --19 1 --21 1 --30 2 --3  2 --7  2 --8  2 --9  2 --13 2 --27\n",
       "[31] 2 --28 2 --32 3 --7  3 --12 3 --13 4 --6  4 --10 5 --6  5 --10 5 --16\n",
       "[41] 6 --16 8 --30 8 --32 8 --33 9 --33 13--33 32--14 33--14 32--15 33--15\n",
       "[51] 32--18 33--18 19--33 32--20 33--20 32--22 33--22 23--25 27--23 23--29\n",
       "[61] 32--23 33--23 25--24 27--24 31--24 31--25 29--26 33--26 27--33 31--28\n",
       "[71] 28--33 32--29 33--29 30--32 30--33 31--32 31--33 32--33"
      ]
     },
     "metadata": {},
     "output_type": "display_data"
    },
    {
     "data": {
      "text/plain": [
       "+ 34/34 vertices, named, from 2d0bea4:\n",
       " [1] 0  1  2  3  4  5  6  7  8  10 11 12 13 17 19 21 31 30 9  27 28 32 16 33 14\n",
       "[26] 15 18 20 22 23 25 29 24 26"
      ]
     },
     "metadata": {},
     "output_type": "display_data"
    }
   ],
   "source": [
    "# Get nodes\n",
    "V(karate)\n",
    "\n",
    "# Get edges\n",
    "E(karate)"
   ]
  },
  {
   "cell_type": "code",
   "execution_count": 5,
   "metadata": {},
   "outputs": [
    {
     "data": {
      "text/html": [
       "FALSE"
      ],
      "text/latex": [
       "FALSE"
      ],
      "text/markdown": [
       "FALSE"
      ],
      "text/plain": [
       "[1] FALSE"
      ]
     },
     "metadata": {},
     "output_type": "display_data"
    }
   ],
   "source": [
    "# Is the graph directed?\n",
    "is.directed(karate)"
   ]
  },
  {
   "cell_type": "markdown",
   "metadata": {},
   "source": [
    "### Plot the graph"
   ]
  },
  {
   "cell_type": "code",
   "execution_count": 6,
   "metadata": {},
   "outputs": [
    {
     "data": {
      "image/png": "[encoded data removed]",
      "text/plain": [
       "Plot with title \"\""
      ]
     },
     "metadata": {},
     "output_type": "display_data"
    }
   ],
   "source": [
    "plot.igraph(karate)"
   ]
  },
  {
   "cell_type": "markdown",
   "metadata": {},
   "source": [
    "### Calculate a metric about the graph"
   ]
  },
  {
   "cell_type": "markdown",
   "metadata": {},
   "source": [
    "For illustration purposes, let's get the betweenness scores for all nodes. The universe of possibilities, in terms of what you can do/compute using iGraph, can be found [here](https://igraph.org/r/doc/)."
   ]
  },
  {
   "cell_type": "code",
   "execution_count": 7,
   "metadata": {},
   "outputs": [
    {
     "data": {
      "text/html": [
       "<dl class=dl-horizontal>\n",
       "\t<dt>0</dt>\n",
       "\t\t<dd>231.07</dd>\n",
       "\t<dt>1</dt>\n",
       "\t\t<dd>28.48</dd>\n",
       "\t<dt>2</dt>\n",
       "\t\t<dd>75.85</dd>\n",
       "\t<dt>3</dt>\n",
       "\t\t<dd>6.29</dd>\n",
       "\t<dt>4</dt>\n",
       "\t\t<dd>0.33</dd>\n",
       "\t<dt>5</dt>\n",
       "\t\t<dd>15.83</dd>\n",
       "\t<dt>6</dt>\n",
       "\t\t<dd>15.83</dd>\n",
       "\t<dt>7</dt>\n",
       "\t\t<dd>0</dd>\n",
       "\t<dt>8</dt>\n",
       "\t\t<dd>29.53</dd>\n",
       "\t<dt>10</dt>\n",
       "\t\t<dd>0.33</dd>\n",
       "\t<dt>11</dt>\n",
       "\t\t<dd>0</dd>\n",
       "\t<dt>12</dt>\n",
       "\t\t<dd>0</dd>\n",
       "\t<dt>13</dt>\n",
       "\t\t<dd>24.22</dd>\n",
       "\t<dt>17</dt>\n",
       "\t\t<dd>0</dd>\n",
       "\t<dt>19</dt>\n",
       "\t\t<dd>17.15</dd>\n",
       "\t<dt>21</dt>\n",
       "\t\t<dd>0</dd>\n",
       "\t<dt>31</dt>\n",
       "\t\t<dd>73.01</dd>\n",
       "\t<dt>30</dt>\n",
       "\t\t<dd>7.61</dd>\n",
       "\t<dt>9</dt>\n",
       "\t\t<dd>0.45</dd>\n",
       "\t<dt>27</dt>\n",
       "\t\t<dd>11.79</dd>\n",
       "\t<dt>28</dt>\n",
       "\t\t<dd>0.95</dd>\n",
       "\t<dt>32</dt>\n",
       "\t\t<dd>76.69</dd>\n",
       "\t<dt>16</dt>\n",
       "\t\t<dd>0</dd>\n",
       "\t<dt>33</dt>\n",
       "\t\t<dd>160.55</dd>\n",
       "\t<dt>14</dt>\n",
       "\t\t<dd>0</dd>\n",
       "\t<dt>15</dt>\n",
       "\t\t<dd>0</dd>\n",
       "\t<dt>18</dt>\n",
       "\t\t<dd>0</dd>\n",
       "\t<dt>20</dt>\n",
       "\t\t<dd>0</dd>\n",
       "\t<dt>22</dt>\n",
       "\t\t<dd>0</dd>\n",
       "\t<dt>23</dt>\n",
       "\t\t<dd>9.3</dd>\n",
       "\t<dt>25</dt>\n",
       "\t\t<dd>2.03</dd>\n",
       "\t<dt>29</dt>\n",
       "\t\t<dd>1.54</dd>\n",
       "\t<dt>24</dt>\n",
       "\t\t<dd>1.17</dd>\n",
       "\t<dt>26</dt>\n",
       "\t\t<dd>0</dd>\n",
       "</dl>\n"
      ],
      "text/latex": [
       "\\begin{description*}\n",
       "\\item[0] 231.07\n",
       "\\item[1] 28.48\n",
       "\\item[2] 75.85\n",
       "\\item[3] 6.29\n",
       "\\item[4] 0.33\n",
       "\\item[5] 15.83\n",
       "\\item[6] 15.83\n",
       "\\item[7] 0\n",
       "\\item[8] 29.53\n",
       "\\item[10] 0.33\n",
       "\\item[11] 0\n",
       "\\item[12] 0\n",
       "\\item[13] 24.22\n",
       "\\item[17] 0\n",
       "\\item[19] 17.15\n",
       "\\item[21] 0\n",
       "\\item[31] 73.01\n",
       "\\item[30] 7.61\n",
       "\\item[9] 0.45\n",
       "\\item[27] 11.79\n",
       "\\item[28] 0.95\n",
       "\\item[32] 76.69\n",
       "\\item[16] 0\n",
       "\\item[33] 160.55\n",
       "\\item[14] 0\n",
       "\\item[15] 0\n",
       "\\item[18] 0\n",
       "\\item[20] 0\n",
       "\\item[22] 0\n",
       "\\item[23] 9.3\n",
       "\\item[25] 2.03\n",
       "\\item[29] 1.54\n",
       "\\item[24] 1.17\n",
       "\\item[26] 0\n",
       "\\end{description*}\n"
      ],
      "text/markdown": [
       "0\n",
       ":   231.071\n",
       ":   28.482\n",
       ":   75.853\n",
       ":   6.294\n",
       ":   0.335\n",
       ":   15.836\n",
       ":   15.837\n",
       ":   08\n",
       ":   29.5310\n",
       ":   0.3311\n",
       ":   012\n",
       ":   013\n",
       ":   24.2217\n",
       ":   019\n",
       ":   17.1521\n",
       ":   031\n",
       ":   73.0130\n",
       ":   7.619\n",
       ":   0.4527\n",
       ":   11.7928\n",
       ":   0.9532\n",
       ":   76.6916\n",
       ":   033\n",
       ":   160.5514\n",
       ":   015\n",
       ":   018\n",
       ":   020\n",
       ":   022\n",
       ":   023\n",
       ":   9.325\n",
       ":   2.0329\n",
       ":   1.5424\n",
       ":   1.1726\n",
       ":   0\n",
       "\n"
      ],
      "text/plain": [
       "     0      1      2      3      4      5      6      7      8     10     11 \n",
       "231.07  28.48  75.85   6.29   0.33  15.83  15.83   0.00  29.53   0.33   0.00 \n",
       "    12     13     17     19     21     31     30      9     27     28     32 \n",
       "  0.00  24.22   0.00  17.15   0.00  73.01   7.61   0.45  11.79   0.95  76.69 \n",
       "    16     33     14     15     18     20     22     23     25     29     24 \n",
       "  0.00 160.55   0.00   0.00   0.00   0.00   0.00   9.30   2.03   1.54   1.17 \n",
       "    26 \n",
       "  0.00 "
      ]
     },
     "metadata": {},
     "output_type": "display_data"
    }
   ],
   "source": [
    "btw <- betweenness(karate)\n",
    "\n",
    "# I will round it to 2 digits just so that it's easier to read\n",
    "btw <- round(btw, 2)\n",
    "btw"
   ]
  },
  {
   "cell_type": "markdown",
   "metadata": {},
   "source": [
    "## Working with arrays, tables, and plots"
   ]
  },
  {
   "cell_type": "markdown",
   "metadata": {},
   "source": [
    "### Selecting"
   ]
  },
  {
   "cell_type": "code",
   "execution_count": 8,
   "metadata": {},
   "outputs": [
    {
     "data": {
      "text/html": [
       "<strong>32:</strong> 76.69"
      ],
      "text/latex": [
       "\\textbf{32:} 76.69"
      ],
      "text/markdown": [
       "**32:** 76.69"
      ],
      "text/plain": [
       "   32 \n",
       "76.69 "
      ]
     },
     "metadata": {},
     "output_type": "display_data"
    }
   ],
   "source": [
    "# Get the betweenness scores for node 32\n",
    "btw[c(\"32\")]"
   ]
  },
  {
   "cell_type": "markdown",
   "metadata": {},
   "source": [
    "<span style=\"color:red\"> NOTE for cell above: It is important that you surround the index with quotation marks. This suggests that you want the array element with _name_ 32 (on the left, in bold above), rather than the 32nd item in the array."
   ]
  },
  {
   "cell_type": "code",
   "execution_count": 20,
   "metadata": {},
   "outputs": [
    {
     "data": {
      "text/html": [
       "<strong>29:</strong> 1.54"
      ],
      "text/latex": [
       "\\textbf{29:} 1.54"
      ],
      "text/markdown": [
       "**29:** 1.54"
      ],
      "text/plain": [
       "  29 \n",
       "1.54 "
      ]
     },
     "metadata": {},
     "output_type": "display_data"
    }
   ],
   "source": [
    "btw[32]"
   ]
  },
  {
   "cell_type": "markdown",
   "metadata": {},
   "source": [
    "<img src=\"fig/igraph_named_index_annotated.png\" width=50% align=\"left\">"
   ]
  },
  {
   "cell_type": "markdown",
   "metadata": {},
   "source": [
    "### Sorting"
   ]
  },
  {
   "cell_type": "code",
   "execution_count": 9,
   "metadata": {},
   "outputs": [
    {
     "data": {
      "text/html": [
       "<dl class=dl-horizontal>\n",
       "\t<dt>7</dt>\n",
       "\t\t<dd>0</dd>\n",
       "\t<dt>11</dt>\n",
       "\t\t<dd>0</dd>\n",
       "\t<dt>12</dt>\n",
       "\t\t<dd>0</dd>\n",
       "\t<dt>17</dt>\n",
       "\t\t<dd>0</dd>\n",
       "\t<dt>21</dt>\n",
       "\t\t<dd>0</dd>\n",
       "\t<dt>16</dt>\n",
       "\t\t<dd>0</dd>\n",
       "\t<dt>14</dt>\n",
       "\t\t<dd>0</dd>\n",
       "\t<dt>15</dt>\n",
       "\t\t<dd>0</dd>\n",
       "\t<dt>18</dt>\n",
       "\t\t<dd>0</dd>\n",
       "\t<dt>20</dt>\n",
       "\t\t<dd>0</dd>\n",
       "\t<dt>22</dt>\n",
       "\t\t<dd>0</dd>\n",
       "\t<dt>26</dt>\n",
       "\t\t<dd>0</dd>\n",
       "\t<dt>4</dt>\n",
       "\t\t<dd>0.33</dd>\n",
       "\t<dt>10</dt>\n",
       "\t\t<dd>0.33</dd>\n",
       "\t<dt>9</dt>\n",
       "\t\t<dd>0.45</dd>\n",
       "\t<dt>28</dt>\n",
       "\t\t<dd>0.95</dd>\n",
       "\t<dt>24</dt>\n",
       "\t\t<dd>1.17</dd>\n",
       "\t<dt>29</dt>\n",
       "\t\t<dd>1.54</dd>\n",
       "\t<dt>25</dt>\n",
       "\t\t<dd>2.03</dd>\n",
       "\t<dt>3</dt>\n",
       "\t\t<dd>6.29</dd>\n",
       "\t<dt>30</dt>\n",
       "\t\t<dd>7.61</dd>\n",
       "\t<dt>23</dt>\n",
       "\t\t<dd>9.3</dd>\n",
       "\t<dt>27</dt>\n",
       "\t\t<dd>11.79</dd>\n",
       "\t<dt>5</dt>\n",
       "\t\t<dd>15.83</dd>\n",
       "\t<dt>6</dt>\n",
       "\t\t<dd>15.83</dd>\n",
       "\t<dt>19</dt>\n",
       "\t\t<dd>17.15</dd>\n",
       "\t<dt>13</dt>\n",
       "\t\t<dd>24.22</dd>\n",
       "\t<dt>1</dt>\n",
       "\t\t<dd>28.48</dd>\n",
       "\t<dt>8</dt>\n",
       "\t\t<dd>29.53</dd>\n",
       "\t<dt>31</dt>\n",
       "\t\t<dd>73.01</dd>\n",
       "\t<dt>2</dt>\n",
       "\t\t<dd>75.85</dd>\n",
       "\t<dt>32</dt>\n",
       "\t\t<dd>76.69</dd>\n",
       "\t<dt>33</dt>\n",
       "\t\t<dd>160.55</dd>\n",
       "\t<dt>0</dt>\n",
       "\t\t<dd>231.07</dd>\n",
       "</dl>\n"
      ],
      "text/latex": [
       "\\begin{description*}\n",
       "\\item[7] 0\n",
       "\\item[11] 0\n",
       "\\item[12] 0\n",
       "\\item[17] 0\n",
       "\\item[21] 0\n",
       "\\item[16] 0\n",
       "\\item[14] 0\n",
       "\\item[15] 0\n",
       "\\item[18] 0\n",
       "\\item[20] 0\n",
       "\\item[22] 0\n",
       "\\item[26] 0\n",
       "\\item[4] 0.33\n",
       "\\item[10] 0.33\n",
       "\\item[9] 0.45\n",
       "\\item[28] 0.95\n",
       "\\item[24] 1.17\n",
       "\\item[29] 1.54\n",
       "\\item[25] 2.03\n",
       "\\item[3] 6.29\n",
       "\\item[30] 7.61\n",
       "\\item[23] 9.3\n",
       "\\item[27] 11.79\n",
       "\\item[5] 15.83\n",
       "\\item[6] 15.83\n",
       "\\item[19] 17.15\n",
       "\\item[13] 24.22\n",
       "\\item[1] 28.48\n",
       "\\item[8] 29.53\n",
       "\\item[31] 73.01\n",
       "\\item[2] 75.85\n",
       "\\item[32] 76.69\n",
       "\\item[33] 160.55\n",
       "\\item[0] 231.07\n",
       "\\end{description*}\n"
      ],
      "text/markdown": [
       "7\n",
       ":   011\n",
       ":   012\n",
       ":   017\n",
       ":   021\n",
       ":   016\n",
       ":   014\n",
       ":   015\n",
       ":   018\n",
       ":   020\n",
       ":   022\n",
       ":   026\n",
       ":   04\n",
       ":   0.3310\n",
       ":   0.339\n",
       ":   0.4528\n",
       ":   0.9524\n",
       ":   1.1729\n",
       ":   1.5425\n",
       ":   2.033\n",
       ":   6.2930\n",
       ":   7.6123\n",
       ":   9.327\n",
       ":   11.795\n",
       ":   15.836\n",
       ":   15.8319\n",
       ":   17.1513\n",
       ":   24.221\n",
       ":   28.488\n",
       ":   29.5331\n",
       ":   73.012\n",
       ":   75.8532\n",
       ":   76.6933\n",
       ":   160.550\n",
       ":   231.07\n",
       "\n"
      ],
      "text/plain": [
       "     7     11     12     17     21     16     14     15     18     20     22 \n",
       "  0.00   0.00   0.00   0.00   0.00   0.00   0.00   0.00   0.00   0.00   0.00 \n",
       "    26      4     10      9     28     24     29     25      3     30     23 \n",
       "  0.00   0.33   0.33   0.45   0.95   1.17   1.54   2.03   6.29   7.61   9.30 \n",
       "    27      5      6     19     13      1      8     31      2     32     33 \n",
       " 11.79  15.83  15.83  17.15  24.22  28.48  29.53  73.01  75.85  76.69 160.55 \n",
       "     0 \n",
       "231.07 "
      ]
     },
     "metadata": {},
     "output_type": "display_data"
    }
   ],
   "source": [
    "# Sort the betweenness scores\n",
    "sort(btw)"
   ]
  },
  {
   "cell_type": "markdown",
   "metadata": {},
   "source": [
    "### Counting frequencies"
   ]
  },
  {
   "cell_type": "code",
   "execution_count": 10,
   "metadata": {},
   "outputs": [
    {
     "data": {
      "text/html": [
       "<table>\n",
       "<caption>A data.frame: 21 × 2</caption>\n",
       "<thead>\n",
       "\t<tr><th scope=col>btw</th><th scope=col>Freq</th></tr>\n",
       "\t<tr><th scope=col>&lt;fct&gt;</th><th scope=col>&lt;int&gt;</th></tr>\n",
       "</thead>\n",
       "<tbody>\n",
       "\t<tr><td>0     </td><td>12</td></tr>\n",
       "\t<tr><td>0.33  </td><td> 2</td></tr>\n",
       "\t<tr><td>0.45  </td><td> 1</td></tr>\n",
       "\t<tr><td>0.95  </td><td> 1</td></tr>\n",
       "\t<tr><td>1.17  </td><td> 1</td></tr>\n",
       "\t<tr><td>1.54  </td><td> 1</td></tr>\n",
       "\t<tr><td>2.03  </td><td> 1</td></tr>\n",
       "\t<tr><td>6.29  </td><td> 1</td></tr>\n",
       "\t<tr><td>7.61  </td><td> 1</td></tr>\n",
       "\t<tr><td>9.3   </td><td> 1</td></tr>\n",
       "\t<tr><td>11.79 </td><td> 1</td></tr>\n",
       "\t<tr><td>15.83 </td><td> 2</td></tr>\n",
       "\t<tr><td>17.15 </td><td> 1</td></tr>\n",
       "\t<tr><td>24.22 </td><td> 1</td></tr>\n",
       "\t<tr><td>28.48 </td><td> 1</td></tr>\n",
       "\t<tr><td>29.53 </td><td> 1</td></tr>\n",
       "\t<tr><td>73.01 </td><td> 1</td></tr>\n",
       "\t<tr><td>75.85 </td><td> 1</td></tr>\n",
       "\t<tr><td>76.69 </td><td> 1</td></tr>\n",
       "\t<tr><td>160.55</td><td> 1</td></tr>\n",
       "\t<tr><td>231.07</td><td> 1</td></tr>\n",
       "</tbody>\n",
       "</table>\n"
      ],
      "text/latex": [
       "A data.frame: 21 × 2\n",
       "\\begin{tabular}{r|ll}\n",
       " btw & Freq\\\\\n",
       " <fct> & <int>\\\\\n",
       "\\hline\n",
       "\t 0      & 12\\\\\n",
       "\t 0.33   &  2\\\\\n",
       "\t 0.45   &  1\\\\\n",
       "\t 0.95   &  1\\\\\n",
       "\t 1.17   &  1\\\\\n",
       "\t 1.54   &  1\\\\\n",
       "\t 2.03   &  1\\\\\n",
       "\t 6.29   &  1\\\\\n",
       "\t 7.61   &  1\\\\\n",
       "\t 9.3    &  1\\\\\n",
       "\t 11.79  &  1\\\\\n",
       "\t 15.83  &  2\\\\\n",
       "\t 17.15  &  1\\\\\n",
       "\t 24.22  &  1\\\\\n",
       "\t 28.48  &  1\\\\\n",
       "\t 29.53  &  1\\\\\n",
       "\t 73.01  &  1\\\\\n",
       "\t 75.85  &  1\\\\\n",
       "\t 76.69  &  1\\\\\n",
       "\t 160.55 &  1\\\\\n",
       "\t 231.07 &  1\\\\\n",
       "\\end{tabular}\n"
      ],
      "text/markdown": [
       "\n",
       "A data.frame: 21 × 2\n",
       "\n",
       "| btw &lt;fct&gt; | Freq &lt;int&gt; |\n",
       "|---|---|\n",
       "| 0      | 12 |\n",
       "| 0.33   |  2 |\n",
       "| 0.45   |  1 |\n",
       "| 0.95   |  1 |\n",
       "| 1.17   |  1 |\n",
       "| 1.54   |  1 |\n",
       "| 2.03   |  1 |\n",
       "| 6.29   |  1 |\n",
       "| 7.61   |  1 |\n",
       "| 9.3    |  1 |\n",
       "| 11.79  |  1 |\n",
       "| 15.83  |  2 |\n",
       "| 17.15  |  1 |\n",
       "| 24.22  |  1 |\n",
       "| 28.48  |  1 |\n",
       "| 29.53  |  1 |\n",
       "| 73.01  |  1 |\n",
       "| 75.85  |  1 |\n",
       "| 76.69  |  1 |\n",
       "| 160.55 |  1 |\n",
       "| 231.07 |  1 |\n",
       "\n"
      ],
      "text/plain": [
       "   btw    Freq\n",
       "1  0      12  \n",
       "2  0.33    2  \n",
       "3  0.45    1  \n",
       "4  0.95    1  \n",
       "5  1.17    1  \n",
       "6  1.54    1  \n",
       "7  2.03    1  \n",
       "8  6.29    1  \n",
       "9  7.61    1  \n",
       "10 9.3     1  \n",
       "11 11.79   1  \n",
       "12 15.83   2  \n",
       "13 17.15   1  \n",
       "14 24.22   1  \n",
       "15 28.48   1  \n",
       "16 29.53   1  \n",
       "17 73.01   1  \n",
       "18 75.85   1  \n",
       "19 76.69   1  \n",
       "20 160.55  1  \n",
       "21 231.07  1  "
      ]
     },
     "metadata": {},
     "output_type": "display_data"
    }
   ],
   "source": [
    "# Get the unique values of betweenness scores, and their count; we'll use a dataframe so the result is easier to read\n",
    "data.frame(table(btw))"
   ]
  },
  {
   "cell_type": "markdown",
   "metadata": {},
   "source": [
    "### Plotting"
   ]
  },
  {
   "cell_type": "code",
   "execution_count": 11,
   "metadata": {},
   "outputs": [
    {
     "data": {
      "image/png": "[encoded data removed]",
      "text/plain": [
       "plot without title"
      ]
     },
     "metadata": {},
     "output_type": "display_data"
    }
   ],
   "source": [
    "# For illustrating how to use ggplot, let's just make a nonsensical scatterplot of betweenness against itself\n",
    "ggplot(data.frame(btw), aes(x=btw, y=btw)) + geom_point()"
   ]
  },
  {
   "cell_type": "markdown",
   "metadata": {},
   "source": [
    "## Quick refresher on logs"
   ]
  },
  {
   "cell_type": "markdown",
   "metadata": {},
   "source": [
    "Recall that \n",
    "$ \\log_b(a)$\n",
    "is \"the power to which $b$ must be raised to get $a$\".\n",
    "\n",
    "Recall also that:\n",
    "\n",
    "- $\\log_b(1) = 0$ \n",
    "\n",
    "- $\\log_b(0) = $ undefined, with a limit of $-\\infty$\n"
   ]
  },
  {
   "cell_type": "code",
   "execution_count": 24,
   "metadata": {},
   "outputs": [
    {
     "data": {
      "text/html": [
       "<table>\n",
       "<caption>A data.frame: 10 × 1</caption>\n",
       "<thead>\n",
       "\t<tr><th scope=col>test</th></tr>\n",
       "\t<tr><th scope=col>&lt;dbl&gt;</th></tr>\n",
       "</thead>\n",
       "<tbody>\n",
       "\t<tr><td>0</td></tr>\n",
       "\t<tr><td>1</td></tr>\n",
       "\t<tr><td>2</td></tr>\n",
       "\t<tr><td>3</td></tr>\n",
       "\t<tr><td>2</td></tr>\n",
       "\t<tr><td>1</td></tr>\n",
       "\t<tr><td>0</td></tr>\n",
       "\t<tr><td>1</td></tr>\n",
       "\t<tr><td>2</td></tr>\n",
       "\t<tr><td>3</td></tr>\n",
       "</tbody>\n",
       "</table>\n"
      ],
      "text/latex": [
       "A data.frame: 10 × 1\n",
       "\\begin{tabular}{r|l}\n",
       " test\\\\\n",
       " <dbl>\\\\\n",
       "\\hline\n",
       "\t 0\\\\\n",
       "\t 1\\\\\n",
       "\t 2\\\\\n",
       "\t 3\\\\\n",
       "\t 2\\\\\n",
       "\t 1\\\\\n",
       "\t 0\\\\\n",
       "\t 1\\\\\n",
       "\t 2\\\\\n",
       "\t 3\\\\\n",
       "\\end{tabular}\n"
      ],
      "text/markdown": [
       "\n",
       "A data.frame: 10 × 1\n",
       "\n",
       "| test &lt;dbl&gt; |\n",
       "|---|\n",
       "| 0 |\n",
       "| 1 |\n",
       "| 2 |\n",
       "| 3 |\n",
       "| 2 |\n",
       "| 1 |\n",
       "| 0 |\n",
       "| 1 |\n",
       "| 2 |\n",
       "| 3 |\n",
       "\n"
      ],
      "text/plain": [
       "   test\n",
       "1  0   \n",
       "2  1   \n",
       "3  2   \n",
       "4  3   \n",
       "5  2   \n",
       "6  1   \n",
       "7  0   \n",
       "8  1   \n",
       "9  2   \n",
       "10 3   "
      ]
     },
     "metadata": {},
     "output_type": "display_data"
    }
   ],
   "source": [
    "data.frame(test)"
   ]
  },
  {
   "cell_type": "code",
   "execution_count": 12,
   "metadata": {},
   "outputs": [
    {
     "data": {
      "text/html": [
       "<ol class=list-inline>\n",
       "\t<li>0</li>\n",
       "\t<li>1</li>\n",
       "\t<li>2</li>\n",
       "\t<li>3</li>\n",
       "\t<li>2</li>\n",
       "\t<li>1</li>\n",
       "\t<li>0</li>\n",
       "\t<li>1</li>\n",
       "\t<li>2</li>\n",
       "\t<li>3</li>\n",
       "</ol>\n"
      ],
      "text/latex": [
       "\\begin{enumerate*}\n",
       "\\item 0\n",
       "\\item 1\n",
       "\\item 2\n",
       "\\item 3\n",
       "\\item 2\n",
       "\\item 1\n",
       "\\item 0\n",
       "\\item 1\n",
       "\\item 2\n",
       "\\item 3\n",
       "\\end{enumerate*}\n"
      ],
      "text/markdown": [
       "1. 0\n",
       "2. 1\n",
       "3. 2\n",
       "4. 3\n",
       "5. 2\n",
       "6. 1\n",
       "7. 0\n",
       "8. 1\n",
       "9. 2\n",
       "10. 3\n",
       "\n",
       "\n"
      ],
      "text/plain": [
       " [1] 0 1 2 3 2 1 0 1 2 3"
      ]
     },
     "metadata": {},
     "output_type": "display_data"
    }
   ],
   "source": [
    "# Let's test this out!\n",
    "test <- c(0,1,2,3,2,1,0,1,2,3)\n",
    "test"
   ]
  },
  {
   "cell_type": "code",
   "execution_count": 13,
   "metadata": {},
   "outputs": [
    {
     "data": {
      "text/html": [
       "<ol class=list-inline>\n",
       "\t<li>-Inf</li>\n",
       "\t<li>0</li>\n",
       "\t<li>0.693147180559945</li>\n",
       "\t<li>1.09861228866811</li>\n",
       "\t<li>0.693147180559945</li>\n",
       "\t<li>0</li>\n",
       "\t<li>-Inf</li>\n",
       "\t<li>0</li>\n",
       "\t<li>0.693147180559945</li>\n",
       "\t<li>1.09861228866811</li>\n",
       "</ol>\n"
      ],
      "text/latex": [
       "\\begin{enumerate*}\n",
       "\\item -Inf\n",
       "\\item 0\n",
       "\\item 0.693147180559945\n",
       "\\item 1.09861228866811\n",
       "\\item 0.693147180559945\n",
       "\\item 0\n",
       "\\item -Inf\n",
       "\\item 0\n",
       "\\item 0.693147180559945\n",
       "\\item 1.09861228866811\n",
       "\\end{enumerate*}\n"
      ],
      "text/markdown": [
       "1. -Inf\n",
       "2. 0\n",
       "3. 0.693147180559945\n",
       "4. 1.09861228866811\n",
       "5. 0.693147180559945\n",
       "6. 0\n",
       "7. -Inf\n",
       "8. 0\n",
       "9. 0.693147180559945\n",
       "10. 1.09861228866811\n",
       "\n",
       "\n"
      ],
      "text/plain": [
       " [1]      -Inf 0.0000000 0.6931472 1.0986123 0.6931472 0.0000000      -Inf\n",
       " [8] 0.0000000 0.6931472 1.0986123"
      ]
     },
     "metadata": {},
     "output_type": "display_data"
    }
   ],
   "source": [
    "# Now, we can see that our zeroes are converted to infinities when we take the log\n",
    "log(test)"
   ]
  },
  {
   "cell_type": "markdown",
   "metadata": {},
   "source": [
    "In your homework, you'll address this problem by increasing the zeroes by 0.1 before you take the log."
   ]
  }
 ],
 "metadata": {
  "kernelspec": {
   "display_name": "R",
   "language": "R",
   "name": "ir"
  },
  "language_info": {
   "codemirror_mode": "r",
   "file_extension": ".r",
   "mimetype": "text/x-r-source",
   "name": "R",
   "pygments_lexer": "r",
   "version": "3.6.1"
  },
  "latex_envs": {
   "LaTeX_envs_menu_present": true,
   "autoclose": false,
   "autocomplete": true,
   "bibliofile": "biblio.bib",
   "cite_by": "apalike",
   "current_citInitial": 1,
   "eqLabelWithNumbers": true,
   "eqNumInitial": 1,
   "hotkeys": {
    "equation": "Ctrl-E",
    "itemize": "Ctrl-I"
   },
   "labels_anchors": false,
   "latex_user_defs": false,
   "report_style_numbering": false,
   "user_envs_cfg": false
  },
  "toc": {
   "base_numbering": 1,
   "nav_menu": {},
   "number_sections": true,
   "sideBar": true,
   "skip_h1_title": true,
   "title_cell": "Table of Contents",
   "title_sidebar": "Contents",
   "toc_cell": true,
   "toc_position": {},
   "toc_section_display": true,
   "toc_window_display": true
  }
 },
 "nbformat": 4,
 "nbformat_minor": 2
}
