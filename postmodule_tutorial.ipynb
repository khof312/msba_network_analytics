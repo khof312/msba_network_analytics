{
 "cells": [
  {
   "cell_type": "markdown",
   "metadata": {
    "toc": true
   },
   "source": [
    "<h1>Table of Contents<span class=\"tocSkip\"></span></h1>\n",
    "<div class=\"toc\"><ul class=\"toc-item\"><li><span><a href=\"#1-Network-Metrics\" data-toc-modified-id=\"1-Network-Metrics-1\">1 Network Metrics</a></span><ul class=\"toc-item\"><li><ul class=\"toc-item\"><li><span><a href=\"#Hint:-How-to-extract-node-characteristics-from-a-sample-graph\" data-toc-modified-id=\"Hint:-How-to-extract-node-characteristics-from-a-sample-graph-1.0.1\">Hint: How to extract node characteristics from a sample graph</a></span></li></ul></li></ul></li><li><span><a href=\"#2-Power-Law-Distributions\" data-toc-modified-id=\"2-Power-Law-Distributions-2\">2 Power Law Distributions</a></span><ul class=\"toc-item\"><li><ul class=\"toc-item\"><li><span><a href=\"#Hint:\" data-toc-modified-id=\"Hint:-2.0.1\">Hint:</a></span></li></ul></li></ul></li><li><span><a href=\"#3-Influential-Nodes\" data-toc-modified-id=\"3-Influential-Nodes-3\">3 Influential Nodes</a></span><ul class=\"toc-item\"><li><ul class=\"toc-item\"><li><span><a href=\"#Hint:-How-to-aggregate-over-a-dataframe\" data-toc-modified-id=\"Hint:-How-to-aggregate-over-a-dataframe-3.0.1\">Hint: How to aggregate over a dataframe</a></span></li></ul></li></ul></li><li><span><a href=\"#4-Distinguishing-Homophily-from-Influence\" data-toc-modified-id=\"4-Distinguishing-Homophily-from-Influence-4\">4 Distinguishing Homophily from Influence</a></span><ul class=\"toc-item\"><li><span><a href=\"#a)-Conceptual-overview\" data-toc-modified-id=\"a)-Conceptual-overview-4.1\">a) Conceptual overview</a></span><ul class=\"toc-item\"><li><span><a href=\"#The-adopter-files-(worldcup.csv,-love.csv,-selfie.csv,tbt.csv)\" data-toc-modified-id=\"The-adopter-files-(worldcup.csv,-love.csv,-selfie.csv,tbt.csv)-4.1.1\">The adopter files (<code>worldcup.csv</code>, <code>love.csv</code>, <code>selfie.csv</code>,<code>tbt.csv</code>)</a></span></li><li><span><a href=\"#The-file-of-all-users-(all_users.csv)\" data-toc-modified-id=\"The-file-of-all-users-(all_users.csv)-4.1.2\">The file of all users (<code>all_users.csv</code>)</a></span></li><li><span><a href=\"#The-propensity-score-workflow\" data-toc-modified-id=\"The-propensity-score-workflow-4.1.3\">The propensity score workflow</a></span></li></ul></li><li><span><a href=\"#b)-Programming-overview\" data-toc-modified-id=\"b)-Programming-overview-4.2\">b) Programming overview</a></span><ul class=\"toc-item\"><li><span><a href=\"#Hint:-How-to-select-a-subset-of-a-dataframe\" data-toc-modified-id=\"Hint:-How-to-select-a-subset-of-a-dataframe-4.2.1\">Hint: How to select a subset of a dataframe</a></span></li><li><span><a href=\"#Hint:-How-to-loop-over-a-dataframe-by-row-index\" data-toc-modified-id=\"Hint:-How-to-loop-over-a-dataframe-by-row-index-4.2.2\">Hint: How to loop over a dataframe by row index</a></span></li><li><span><a href=\"#Hint:-Initialize-a-dataframe-and-add-rows\" data-toc-modified-id=\"Hint:-Initialize-a-dataframe-and-add-rows-4.2.3\">Hint: Initialize a dataframe and add rows</a></span></li><li><span><a href=\"#Hint:-How-to-fit-a-logistic-regression-in-R,-and-use-it-for-prediction\" data-toc-modified-id=\"Hint:-How-to-fit-a-logistic-regression-in-R,-and-use-it-for-prediction-4.2.4\">Hint: How to fit a logistic regression in R, and use it for prediction</a></span></li></ul></li></ul></li></ul></div>"
   ]
  },
  {
   "cell_type": "code",
   "execution_count": 1,
   "metadata": {},
   "outputs": [
    {
     "name": "stderr",
     "output_type": "stream",
     "text": [
      "Warning message:\n",
      "\"package 'igraph' was built under R version 3.3.3\"\n",
      "Attaching package: 'igraph'\n",
      "\n",
      "The following objects are masked from 'package:stats':\n",
      "\n",
      "    decompose, spectrum\n",
      "\n",
      "The following object is masked from 'package:base':\n",
      "\n",
      "    union\n",
      "\n"
     ]
    }
   ],
   "source": [
    "library(igraph)"
   ]
  },
  {
   "cell_type": "markdown",
   "metadata": {},
   "source": [
    "# 1 Network Metrics"
   ]
  },
  {
   "cell_type": "markdown",
   "metadata": {},
   "source": [
    "### Hint: How to extract node characteristics from a sample graph\n",
    "\n",
    "For a list of different characteristics we can extract, see [the documentation](http://igraph.org/r/doc/)."
   ]
  },
  {
   "cell_type": "markdown",
   "metadata": {},
   "source": [
    "<img src=\"fig/graph.png\" style=\"width: 150px;\"/>"
   ]
  },
  {
   "cell_type": "code",
   "execution_count": 2,
   "metadata": {},
   "outputs": [
    {
     "data": {
      "text/plain": [
       "IGRAPH 5ddf537 DN-- 4 5 -- \n",
       "+ attr: name (v/c)\n",
       "+ edges from 5ddf537 (vertex names):\n",
       "[1] a->b b->c c->a c->d d->a"
      ]
     },
     "metadata": {},
     "output_type": "display_data"
    }
   ],
   "source": [
    "# Step 1: Let's load a sample graph (pictured above) ->  for your assignment, you'll want to load from a file instead.\n",
    "uv <- matrix( c('a','b','b','c','c','a','c','d','d','a'), nc = 2, byrow = TRUE)\n",
    "g <- graph_from_edgelist(uv, directed=TRUE) \n",
    "g"
   ]
  },
  {
   "cell_type": "code",
   "execution_count": 3,
   "metadata": {},
   "outputs": [
    {
     "data": {
      "text/html": [
       "<dl class=dl-horizontal>\n",
       "\t<dt>a</dt>\n",
       "\t\t<dd>0.166666666666667</dd>\n",
       "\t<dt>b</dt>\n",
       "\t\t<dd>0.2</dd>\n",
       "\t<dt>c</dt>\n",
       "\t\t<dd>0.25</dd>\n",
       "\t<dt>d</dt>\n",
       "\t\t<dd>0.166666666666667</dd>\n",
       "</dl>\n"
      ],
      "text/latex": [
       "\\begin{description*}\n",
       "\\item[a] 0.166666666666667\n",
       "\\item[b] 0.2\n",
       "\\item[c] 0.25\n",
       "\\item[d] 0.166666666666667\n",
       "\\end{description*}\n"
      ],
      "text/markdown": [
       "a\n",
       ":   0.166666666666667b\n",
       ":   0.2c\n",
       ":   0.25d\n",
       ":   0.166666666666667\n",
       "\n"
      ],
      "text/plain": [
       "        a         b         c         d \n",
       "0.1666667 0.2000000 0.2500000 0.1666667 "
      ]
     },
     "metadata": {},
     "output_type": "display_data"
    }
   ],
   "source": [
    "# Step 2: We can calculate a metric, e.g. closeness, over the whole graph \n",
    "closeness(g)"
   ]
  },
  {
   "cell_type": "code",
   "execution_count": 4,
   "metadata": {},
   "outputs": [
    {
     "data": {
      "text/html": [
       "<dl class=dl-horizontal>\n",
       "\t<dt>a</dt>\n",
       "\t\t<dd>0.166666666666667</dd>\n",
       "\t<dt>c</dt>\n",
       "\t\t<dd>0.25</dd>\n",
       "</dl>\n"
      ],
      "text/latex": [
       "\\begin{description*}\n",
       "\\item[a] 0.166666666666667\n",
       "\\item[c] 0.25\n",
       "\\end{description*}\n"
      ],
      "text/markdown": [
       "a\n",
       ":   0.166666666666667c\n",
       ":   0.25\n",
       "\n"
      ],
      "text/plain": [
       "        a         c \n",
       "0.1666667 0.2500000 "
      ]
     },
     "metadata": {},
     "output_type": "display_data"
    }
   ],
   "source": [
    "# Step 3: We can use indexing to retrieve the value for a set of nodes node, e.g. a and c\n",
    "closeness(g)[c('a','c')]"
   ]
  },
  {
   "cell_type": "markdown",
   "metadata": {},
   "source": [
    "# 2 Power Law Distributions"
   ]
  },
  {
   "cell_type": "markdown",
   "metadata": {},
   "source": [
    "### Hint:\n",
    "You may want to use the `factor` function to count the number of times that each possible value of `ntweets` appears."
   ]
  },
  {
   "cell_type": "markdown",
   "metadata": {},
   "source": [
    "# 3 Influential Nodes"
   ]
  },
  {
   "cell_type": "markdown",
   "metadata": {},
   "source": [
    "### Hint: How to aggregate over a dataframe\n",
    "You may find it useful to use the `aggregate` function to get the average number of retweets per user."
   ]
  },
  {
   "cell_type": "code",
   "execution_count": 5,
   "metadata": {},
   "outputs": [
    {
     "data": {
      "text/html": [
       "<table>\n",
       "<thead><tr><th></th><th scope=col>cyl</th><th scope=col>wt</th></tr></thead>\n",
       "<tbody>\n",
       "\t<tr><th scope=row>Mazda RX4</th><td>6    </td><td>2.620</td></tr>\n",
       "\t<tr><th scope=row>Mazda RX4 Wag</th><td>6    </td><td>2.875</td></tr>\n",
       "\t<tr><th scope=row>Datsun 710</th><td>4    </td><td>2.320</td></tr>\n",
       "\t<tr><th scope=row>Hornet 4 Drive</th><td>6    </td><td>3.215</td></tr>\n",
       "\t<tr><th scope=row>Hornet Sportabout</th><td>8    </td><td>3.440</td></tr>\n",
       "</tbody>\n",
       "</table>\n"
      ],
      "text/latex": [
       "\\begin{tabular}{r|ll}\n",
       "  & cyl & wt\\\\\n",
       "\\hline\n",
       "\tMazda RX4 & 6     & 2.620\\\\\n",
       "\tMazda RX4 Wag & 6     & 2.875\\\\\n",
       "\tDatsun 710 & 4     & 2.320\\\\\n",
       "\tHornet 4 Drive & 6     & 3.215\\\\\n",
       "\tHornet Sportabout & 8     & 3.440\\\\\n",
       "\\end{tabular}\n"
      ],
      "text/markdown": [
       "\n",
       "| <!--/--> | cyl | wt | \n",
       "|---|---|---|---|---|\n",
       "| Mazda RX4 | 6     | 2.620 | \n",
       "| Mazda RX4 Wag | 6     | 2.875 | \n",
       "| Datsun 710 | 4     | 2.320 | \n",
       "| Hornet 4 Drive | 6     | 3.215 | \n",
       "| Hornet Sportabout | 8     | 3.440 | \n",
       "\n",
       "\n"
      ],
      "text/plain": [
       "                  cyl wt   \n",
       "Mazda RX4         6   2.620\n",
       "Mazda RX4 Wag     6   2.875\n",
       "Datsun 710        4   2.320\n",
       "Hornet 4 Drive    6   3.215\n",
       "Hornet Sportabout 8   3.440"
      ]
     },
     "metadata": {},
     "output_type": "display_data"
    }
   ],
   "source": [
    "# Step 1: For a simple example, let's use a subset of the mtcars sample data\n",
    "data(mtcars)\n",
    "test_df <- mtcars[0:5, c(\"cyl\", 'wt')]\n",
    "test_df"
   ]
  },
  {
   "cell_type": "code",
   "execution_count": 6,
   "metadata": {},
   "outputs": [
    {
     "data": {
      "text/html": [
       "<table>\n",
       "<thead><tr><th></th><th scope=col>cyl</th><th scope=col>wt</th></tr></thead>\n",
       "<tbody>\n",
       "\t<tr><th scope=row>3</th><td>8    </td><td>3.440</td></tr>\n",
       "\t<tr><th scope=row>2</th><td>6    </td><td>3.215</td></tr>\n",
       "\t<tr><th scope=row>1</th><td>4    </td><td>2.320</td></tr>\n",
       "</tbody>\n",
       "</table>\n"
      ],
      "text/latex": [
       "\\begin{tabular}{r|ll}\n",
       "  & cyl & wt\\\\\n",
       "\\hline\n",
       "\t3 & 8     & 3.440\\\\\n",
       "\t2 & 6     & 3.215\\\\\n",
       "\t1 & 4     & 2.320\\\\\n",
       "\\end{tabular}\n"
      ],
      "text/markdown": [
       "\n",
       "| <!--/--> | cyl | wt | \n",
       "|---|---|---|\n",
       "| 3 | 8     | 3.440 | \n",
       "| 2 | 6     | 3.215 | \n",
       "| 1 | 4     | 2.320 | \n",
       "\n",
       "\n"
      ],
      "text/plain": [
       "  cyl wt   \n",
       "3 8   3.440\n",
       "2 6   3.215\n",
       "1 4   2.320"
      ]
     },
     "metadata": {},
     "output_type": "display_data"
    }
   ],
   "source": [
    "# Step 2: Let's get the maximum weight by cylinder count\n",
    "maxwt<-aggregate(wt~cyl, test_df, max)\n",
    "\n",
    "# Step 3: Sort the dataframe\n",
    "maxwt[order(-maxwt$wt), ]"
   ]
  },
  {
   "cell_type": "markdown",
   "metadata": {},
   "source": [
    "# 4 Distinguishing Homophily from Influence"
   ]
  },
  {
   "cell_type": "markdown",
   "metadata": {},
   "source": [
    "** Are users more likely to tweet with a hashtag, if their friends have already tweeted with that hashtag?** This problem attempts to answer this question by studying the spread of four hashtags in a network of Twitter users.\n",
    "In other words, we want to estimate the effect of the treatment on the outcome of interest, where:\n",
    "- **Treatment** = friends tweeted with a given hashtag before time $t^*_h$ and user has tweeted since $t^*_h$\n",
    "- **Outcome of interest** = adoption, defined as whether or not someone tweeted with the hashtag. "
   ]
  },
  {
   "cell_type": "markdown",
   "metadata": {},
   "source": [
    "## a) Conceptual overview\n",
    "### The adopter files (`worldcup.csv`, `love.csv`, `selfie.csv`,`tbt.csv`)"
   ]
  },
  {
   "cell_type": "markdown",
   "metadata": {},
   "source": [
    "Essentially, we can consider every adopter who tweeted before time $t^*_{h}$ to have \"treated\" all of his/her followers. \n",
    "\n",
    "> <span style=\"color:gray\">\n",
    "    **Example: **   \n",
    "We see that $309$ users adopted the hashtag `#worldcup`. We can get the median `timeStamp` from the dataframe of `#worldcup` adopters, and see that $t^*_{worldcup}=154$. The timestamp is just a sequential ordering of users starting at 0, so we can confirm that 154 users adopted before $t^*_{worldcup}$ and had the potential to treat others.\n",
    "    </span>"
   ]
  },
  {
   "cell_type": "markdown",
   "metadata": {},
   "source": [
    "### The file of all users (`all_users.csv`)"
   ]
  },
  {
   "cell_type": "markdown",
   "metadata": {},
   "source": [
    "The people in `all_users.csv` fall  into three categories:\n",
    "1. Those who were treated\n",
    "2. Those who were untreated\n",
    "3. Those who don't follow anyone and can't possibly have been treated ($\\rightarrow$ discard)\n",
    "\n",
    "<img src=\"fig/allusers.png\" style=\"width: 700px;\"/>"
   ]
  },
  {
   "cell_type": "markdown",
   "metadata": {},
   "source": [
    "> <span style=\"color:gray\"> \n",
    "    **Check your work:** \n",
    "    After dropping users with no friends and calculating adoption and treatment status for everyone in `all_users.csv`, we wind up with the following distributions for `#worldcup`:   \n",
    "    \n",
    "|didn't adopt |adopted   \n",
    "---|---|---\n",
    "untreated | 200 | 30 |  = 13%\n",
    "treated | 214|61 |  = 22%\n",
    "</span>"
   ]
  },
  {
   "cell_type": "markdown",
   "metadata": {},
   "source": [
    "### The propensity score workflow"
   ]
  },
  {
   "cell_type": "markdown",
   "metadata": {},
   "source": [
    "Ideally, treated and untreated users would be similar. Then, we could just compare the adoption rate across all groups. However, this is unlikely...\n",
    "\n",
    "Due to homophily, the treatment group might suffer from selection bias. Specifically, this group of people might be more likely to adopt already, since they follow (and are likely similar to) the early adopters. In this case, they would be *both* more likely to be treated, *and* more likely to adopt.\n",
    "\n",
    "We need to take extra steps so that we compare the *treated* users to the \"right\" *untreated* users who are just like them. We will do so with propensity score matching. A sample solution could adopt the following workflow:\n",
    "\n",
    "\n",
    "<img src=\"fig/workflow.png\" style=\"width: 800px;\"/>"
   ]
  },
  {
   "cell_type": "markdown",
   "metadata": {},
   "source": [
    "## b) Programming overview"
   ]
  },
  {
   "cell_type": "markdown",
   "metadata": {},
   "source": [
    "### Hint: How to select a subset of a dataframe"
   ]
  },
  {
   "cell_type": "code",
   "execution_count": 7,
   "metadata": {},
   "outputs": [],
   "source": [
    "#Let's find all cars with 6 cylinders in mtcars\n",
    "cars6cyl <- subset(mtcars, cyl==6)"
   ]
  },
  {
   "cell_type": "markdown",
   "metadata": {},
   "source": [
    "### Hint: How to loop over a dataframe by row index"
   ]
  },
  {
   "cell_type": "code",
   "execution_count": 8,
   "metadata": {},
   "outputs": [
    {
     "name": "stdout",
     "output_type": "stream",
     "text": [
      "[1] 17.02\n",
      "[1] 19.44\n",
      "[1] 20.22\n",
      "[1] 20\n",
      "[1] 18.3\n",
      "[1] 17.4\n",
      "[1] 18\n",
      "[1] 17.82\n",
      "[1] 19.47\n",
      "[1] 19.9\n",
      "[1] 16.87\n",
      "[1] 15.41\n",
      "[1] 18.9\n",
      "[1] 16.9\n",
      "[1] 15.5\n",
      "[1] 18.6\n"
     ]
    }
   ],
   "source": [
    "# Let's find the qsec variable for every even-numbered row\n",
    "\n",
    "for (row in 1:nrow(mtcars)) {           # Loop over dataframe    \n",
    "    if (row%%2==0) {                    # Select only even-numbered rows       \n",
    "        print(mtcars[row, c('qsec')])   # Print the \"qsec\" variable for that row\n",
    "        }\n",
    "}"
   ]
  },
  {
   "cell_type": "markdown",
   "metadata": {},
   "source": [
    "### Hint: Initialize a dataframe and add rows"
   ]
  },
  {
   "cell_type": "code",
   "execution_count": 9,
   "metadata": {
    "scrolled": true
   },
   "outputs": [
    {
     "data": {
      "text/html": [
       "<table>\n",
       "<thead><tr><th scope=col>a</th><th scope=col>b</th></tr></thead>\n",
       "<tbody>\n",
       "\t<tr><td>test1</td><td>test2</td></tr>\n",
       "\t<tr><td>test3</td><td>test4</td></tr>\n",
       "</tbody>\n",
       "</table>\n"
      ],
      "text/latex": [
       "\\begin{tabular}{r|ll}\n",
       " a & b\\\\\n",
       "\\hline\n",
       "\t test1 & test2\\\\\n",
       "\t test3 & test4\\\\\n",
       "\\end{tabular}\n"
      ],
      "text/markdown": [
       "\n",
       "a | b | \n",
       "|---|---|\n",
       "| test1 | test2 | \n",
       "| test3 | test4 | \n",
       "\n",
       "\n"
      ],
      "text/plain": [
       "  a     b    \n",
       "1 test1 test2\n",
       "2 test3 test4"
      ]
     },
     "metadata": {},
     "output_type": "display_data"
    }
   ],
   "source": [
    "# Initialize empty dataframe\n",
    "df <- data.frame(matrix(ncol = 2, nrow = 0))\n",
    "\n",
    "# Name the dataframe columns\n",
    "names(df) <- c(\"a\", \"b\")\n",
    "\n",
    "# Add rows\n",
    "df[nrow(df)+1,] = list('test1', 'test2')\n",
    "df[nrow(df)+1,] = list('test3', 'test4')\n",
    "\n",
    "df"
   ]
  },
  {
   "cell_type": "markdown",
   "metadata": {},
   "source": [
    "### Hint: How to fit a logistic regression in R, and use it for prediction"
   ]
  },
  {
   "cell_type": "code",
   "execution_count": 10,
   "metadata": {},
   "outputs": [
    {
     "data": {
      "text/html": [
       "<table>\n",
       "<thead><tr><th></th><th scope=col>mpg</th><th scope=col>cyl</th><th scope=col>disp</th><th scope=col>hp</th><th scope=col>drat</th><th scope=col>wt</th><th scope=col>qsec</th><th scope=col>vs</th><th scope=col>am</th><th scope=col>gear</th><th scope=col>carb</th><th scope=col>predicted</th></tr></thead>\n",
       "<tbody>\n",
       "\t<tr><th scope=row>Mazda RX4</th><td>21.0      </td><td>6         </td><td>160       </td><td>110       </td><td>3.90      </td><td>2.620     </td><td>16.46     </td><td>0         </td><td>1         </td><td>4         </td><td>4         </td><td>0.95589722</td></tr>\n",
       "\t<tr><th scope=row>Mazda RX4 Wag</th><td>21.0      </td><td>6         </td><td>160       </td><td>110       </td><td>3.90      </td><td>2.875     </td><td>17.02     </td><td>0         </td><td>1         </td><td>4         </td><td>4         </td><td>0.74475046</td></tr>\n",
       "\t<tr><th scope=row>Datsun 710</th><td>22.8      </td><td>4         </td><td>108       </td><td> 93       </td><td>3.85      </td><td>2.320     </td><td>18.61     </td><td>1         </td><td>1         </td><td>4         </td><td>1         </td><td>0.94223476</td></tr>\n",
       "\t<tr><th scope=row>Hornet 4 Drive</th><td>21.4      </td><td>6         </td><td>258       </td><td>110       </td><td>3.08      </td><td>3.215     </td><td>19.44     </td><td>1         </td><td>0         </td><td>3         </td><td>1         </td><td>0.16756939</td></tr>\n",
       "\t<tr><th scope=row>Hornet Sportabout</th><td>18.7      </td><td>8         </td><td>360       </td><td>175       </td><td>3.15      </td><td>3.440     </td><td>17.02     </td><td>0         </td><td>0         </td><td>3         </td><td>2         </td><td>0.32543790</td></tr>\n",
       "\t<tr><th scope=row>Valiant</th><td>18.1      </td><td>6         </td><td>225       </td><td>105       </td><td>2.76      </td><td>3.460     </td><td>20.22     </td><td>1         </td><td>0         </td><td>3         </td><td>1         </td><td>0.02848076</td></tr>\n",
       "</tbody>\n",
       "</table>\n"
      ],
      "text/latex": [
       "\\begin{tabular}{r|llllllllllll}\n",
       "  & mpg & cyl & disp & hp & drat & wt & qsec & vs & am & gear & carb & predicted\\\\\n",
       "\\hline\n",
       "\tMazda RX4 & 21.0       & 6          & 160        & 110        & 3.90       & 2.620      & 16.46      & 0          & 1          & 4          & 4          & 0.95589722\\\\\n",
       "\tMazda RX4 Wag & 21.0       & 6          & 160        & 110        & 3.90       & 2.875      & 17.02      & 0          & 1          & 4          & 4          & 0.74475046\\\\\n",
       "\tDatsun 710 & 22.8       & 4          & 108        &  93        & 3.85       & 2.320      & 18.61      & 1          & 1          & 4          & 1          & 0.94223476\\\\\n",
       "\tHornet 4 Drive & 21.4       & 6          & 258        & 110        & 3.08       & 3.215      & 19.44      & 1          & 0          & 3          & 1          & 0.16756939\\\\\n",
       "\tHornet Sportabout & 18.7       & 8          & 360        & 175        & 3.15       & 3.440      & 17.02      & 0          & 0          & 3          & 2          & 0.32543790\\\\\n",
       "\tValiant & 18.1       & 6          & 225        & 105        & 2.76       & 3.460      & 20.22      & 1          & 0          & 3          & 1          & 0.02848076\\\\\n",
       "\\end{tabular}\n"
      ],
      "text/markdown": [
       "\n",
       "| <!--/--> | mpg | cyl | disp | hp | drat | wt | qsec | vs | am | gear | carb | predicted | \n",
       "|---|---|---|---|---|---|\n",
       "| Mazda RX4 | 21.0       | 6          | 160        | 110        | 3.90       | 2.620      | 16.46      | 0          | 1          | 4          | 4          | 0.95589722 | \n",
       "| Mazda RX4 Wag | 21.0       | 6          | 160        | 110        | 3.90       | 2.875      | 17.02      | 0          | 1          | 4          | 4          | 0.74475046 | \n",
       "| Datsun 710 | 22.8       | 4          | 108        |  93        | 3.85       | 2.320      | 18.61      | 1          | 1          | 4          | 1          | 0.94223476 | \n",
       "| Hornet 4 Drive | 21.4       | 6          | 258        | 110        | 3.08       | 3.215      | 19.44      | 1          | 0          | 3          | 1          | 0.16756939 | \n",
       "| Hornet Sportabout | 18.7       | 8          | 360        | 175        | 3.15       | 3.440      | 17.02      | 0          | 0          | 3          | 2          | 0.32543790 | \n",
       "| Valiant | 18.1       | 6          | 225        | 105        | 2.76       | 3.460      | 20.22      | 1          | 0          | 3          | 1          | 0.02848076 | \n",
       "\n",
       "\n"
      ],
      "text/plain": [
       "                  mpg  cyl disp hp  drat wt    qsec  vs am gear carb predicted \n",
       "Mazda RX4         21.0 6   160  110 3.90 2.620 16.46 0  1  4    4    0.95589722\n",
       "Mazda RX4 Wag     21.0 6   160  110 3.90 2.875 17.02 0  1  4    4    0.74475046\n",
       "Datsun 710        22.8 4   108   93 3.85 2.320 18.61 1  1  4    1    0.94223476\n",
       "Hornet 4 Drive    21.4 6   258  110 3.08 3.215 19.44 1  0  3    1    0.16756939\n",
       "Hornet Sportabout 18.7 8   360  175 3.15 3.440 17.02 0  0  3    2    0.32543790\n",
       "Valiant           18.1 6   225  105 2.76 3.460 20.22 1  0  3    1    0.02848076"
      ]
     },
     "metadata": {},
     "output_type": "display_data"
    }
   ],
   "source": [
    "# Step 1: Let's use our mtcars data again\n",
    "data(mtcars)\n",
    "\n",
    "# Step 2: Fit a logit model to predict 'am' using 'cyl' and 'wt' variables\n",
    "fittedlogit <- glm(am~cyl+wt, family=binomial(link='logit'), data=mtcars)\n",
    "\n",
    "# Step 3: Get predicted values and assign them to a new column\n",
    "mtcars$predicted <- predict(fittedlogit, newdata=mtcars, type='response')\n",
    "head(mtcars)"
   ]
  }
 ],
 "metadata": {
  "kernelspec": {
   "display_name": "R",
   "language": "R",
   "name": "ir"
  },
  "language_info": {
   "codemirror_mode": "r",
   "file_extension": ".r",
   "mimetype": "text/x-r-source",
   "name": "R",
   "pygments_lexer": "r",
   "version": "3.3.0"
  },
  "toc": {
   "base_numbering": 1,
   "nav_menu": {},
   "number_sections": false,
   "sideBar": true,
   "skip_h1_title": false,
   "title_cell": "Table of Contents",
   "title_sidebar": "Contents",
   "toc_cell": true,
   "toc_position": {
    "height": "calc(100% - 180px)",
    "left": "10px",
    "top": "150px",
    "width": "186px"
   },
   "toc_section_display": true,
   "toc_window_display": true
  }
 },
 "nbformat": 4,
 "nbformat_minor": 2
}
