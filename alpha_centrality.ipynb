{
 "cells": [
  {
   "cell_type": "markdown",
   "metadata": {},
   "source": [
    "# A note on alpha centrality"
   ]
  },
  {
   "cell_type": "markdown",
   "metadata": {},
   "source": [
    "The best explanation I've seen is in [Bonacich & Loyd (2001)](http://www.leonidzhukov.net/hse/2016/networks/papers/bonacich2001.pdf). I'll try to rephrase their work more simply, as I understand it.   \n",
    "Here is another resource on Eigenvector centrality, recommended by one of your classmates: [Youtube](https://www.youtube.com/watch?v=9vs1zSqd070)"
   ]
  },
  {
   "cell_type": "markdown",
   "metadata": {},
   "source": [
    "## Eigenvector centrality\n",
    "Let's first consider eigenvector centrality. You can look at the equations in the paper to see the definition of eigenvector centrality, but in words:\n",
    "\n",
    "> <span style=\"color:gray\">\n",
    "The eigenvector centrality of node $i$ is just the sum of the eigenvector centrality of all nodes $j$ that point to $i$ (scaled by a constant value).\n",
    "\n",
    "This is a \"recursive\" definition - each node's eigenvector centrality depends on the centrality of its neighbors. Essentially, we use an iterative algorithm to find the values of eigenvector centrality that satisfy this definition."
   ]
  },
  {
   "cell_type": "markdown",
   "metadata": {},
   "source": [
    "## Alpha centrality\n",
    "### What's wrong with eigenvector centrality?\n",
    "Essentially, there are two problems with eigenvector centrality. \n",
    "\n",
    "1. The first, not mathematical, is that **we might not want to define centrality only in terms of the network structure**. For example, if we are working with the Twitter data, we might also want to incorporate some outside measure (say, the person's number of Facebook followers) to say how central a given node is. These are the \"exogenous\" factors -- information that is not embedded in the structure of the network at hand.\n",
    "\n",
    "\n",
    "2. The second, which [Bonacich & Loyd (2001)](http://www.leonidzhukov.net/hse/2016/networks/papers/bonacich2001.pdf) illustrates nicely, is that **the definition of eigenvector centrality is problematic if some nodes do not have incoming links**. For example:\n",
    "\n",
    "\n",
    "   - Below, BCDE have no incoming links. Thus they will have no eigenvector centrality. But since A is defined in terms of the centrality of BCDE, it can't have any eigenvector centrality either.\n",
    "<img src=\"fig/alpha1.png\" style=\"width: 150px;\"/>\n",
    "\n",
    "   - Above, A \"seems\" more central than BCD. However, since E has no incoming links and therefore no eigenvector centrality, A will not have more eigenvector centrality than BCD.\n",
    "<img src=\"fig/alpha2.png\" style=\"width: 150px;\"/>"
   ]
  },
  {
   "cell_type": "markdown",
   "metadata": {},
   "source": [
    "### How does alpha centrality fix the problem?\n",
    "Alpha centrality was designed to remedy these two problems. \n",
    "\n",
    "\n",
    "$x = \\frac{1}{\\lambda} A^Tx \\quad\\quad\\quad$         < EIGENVECTOR CENTRALITY    \n",
    "$x = \\alpha A^Tx + e \\quad\\quad\\quad$   < ALPHA CENTRALITY\n",
    "\n",
    "\n",
    "The two look quite similar (since $\\frac{1}{\\lambda}$ and $\\alpha$ are just numbers), except for the $e$.    \n",
    "The $e$ represents the \"exogenous factors\", and it can be used to ensure that alpha centrality is never zero. \n",
    "- It could be a vector of _outside information_, like the number of facebook followers for each node as described above.\n",
    "- It could be a vector of _ones_. This isn't really \"information\", but it ensures that even nodes with no in-links have a non-zero alpha centrality.\n",
    "\n",
    "The $\\alpha$ represents how important these \"exogenous factors\" are in determining the centrality measure.\n",
    "- Maybe we care a lot about facebook followers. Then we'd choose $\\alpha$ small so that $e$ is more important.\n",
    "- Maybe we don't care much. If we make $\\alpha$ big then these outside factors are less relevant in the centrality computation."
   ]
  },
  {
   "cell_type": "markdown",
   "metadata": {},
   "source": [
    "----------------\n",
    "Globally, the takeaway is that these metrics are basically designed by researchers to be quantities that convey useful information. If one metric (like eigenvector centrality) has an obvious limitation, then people propose a new one (like alpha centrality) that fixes the problem."
   ]
  }
 ],
 "metadata": {
  "kernelspec": {
   "display_name": "Python 3",
   "language": "python",
   "name": "python3"
  },
  "language_info": {
   "codemirror_mode": {
    "name": "ipython",
    "version": 3
   },
   "file_extension": ".py",
   "mimetype": "text/x-python",
   "name": "python",
   "nbconvert_exporter": "python",
   "pygments_lexer": "ipython3",
   "version": "3.7.0"
  },
  "latex_envs": {
   "LaTeX_envs_menu_present": true,
   "autoclose": false,
   "autocomplete": true,
   "bibliofile": "biblio.bib",
   "cite_by": "apalike",
   "current_citInitial": 1,
   "eqLabelWithNumbers": true,
   "eqNumInitial": 1,
   "hotkeys": {
    "equation": "Ctrl-E",
    "itemize": "Ctrl-I"
   },
   "labels_anchors": false,
   "latex_user_defs": false,
   "report_style_numbering": false,
   "user_envs_cfg": false
  },
  "toc": {
   "base_numbering": 1,
   "nav_menu": {},
   "number_sections": true,
   "sideBar": true,
   "skip_h1_title": false,
   "title_cell": "Table of Contents",
   "title_sidebar": "Contents",
   "toc_cell": false,
   "toc_position": {},
   "toc_section_display": true,
   "toc_window_display": false
  },
  "varInspector": {
   "cols": {
    "lenName": 16,
    "lenType": 16,
    "lenVar": 40
   },
   "kernels_config": {
    "python": {
     "delete_cmd_postfix": "",
     "delete_cmd_prefix": "del ",
     "library": "var_list.py",
     "varRefreshCmd": "print(var_dic_list())"
    },
    "r": {
     "delete_cmd_postfix": ") ",
     "delete_cmd_prefix": "rm(",
     "library": "var_list.r",
     "varRefreshCmd": "cat(var_dic_list()) "
    }
   },
   "types_to_exclude": [
    "module",
    "function",
    "builtin_function_or_method",
    "instance",
    "_Feature"
   ],
   "window_display": false
  }
 },
 "nbformat": 4,
 "nbformat_minor": 2
}
