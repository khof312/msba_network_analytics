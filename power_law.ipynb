{
 "cells": [
  {
   "cell_type": "markdown",
   "metadata": {},
   "source": [
    "# A brief overview of Power law distributions\n",
    "For more details, see the very good explanation in Easley and Kleinberg, _Networks, Crowds, and Markets_."
   ]
  },
  {
   "cell_type": "markdown",
   "metadata": {},
   "source": [
    "## So what's the big deal with Power law distributions?"
   ]
  },
  {
   "cell_type": "markdown",
   "metadata": {},
   "source": [
    "Power law and normal distributions just describe the relationship between some quantity $k$, and some quantity $y=f(k)$. \n",
    "\n",
    "> <span style=\"color:gray\"> For example, we could let $k =$ _number of downloads_ and $f(k) =$ _# songs with a given number of of downloads_ and plot the relationship. \n",
    "\n",
    "A power law distribution is characterized by the following relationship:\n",
    "$$ y = \\frac{a}{k^c}$$"
   ]
  },
  {
   "cell_type": "markdown",
   "metadata": {},
   "source": [
    "## How are they different from normal?"
   ]
  },
  {
   "cell_type": "markdown",
   "metadata": {},
   "source": [
    "If we compare power law (orange) to normal distribution (blue), we can see that:\n",
    "- **POWER LAW:** This kind of distribution would imply that a large number of songs have very few downloads; a small number of songs have a lot of downloads   \n",
    "\n",
    "\n",
    "- **NORMAL DIST:** This kind of distribution would imply that most songs have an average number of downloads; a few have many downloads, and a few have little downloads.\n",
    "\n",
    "\n",
    "<img src=\"fig/power_vs_normal.png\" style=\"width: 400px;\"/>\n",
    "\n",
    "Intuitively, normal distribution generates an allocation that we might typically see as \"fair\", \"averaged\", \"balanced\" where the power law might generate something that looks \"skewed\" or \"unequal\". Rich-get-richer is one way in which such a skewed distribution might occur, but it's not the only way."
   ]
  },
  {
   "cell_type": "markdown",
   "metadata": {},
   "source": [
    "## So what's the meaning of $c$ and $a$?"
   ]
  },
  {
   "cell_type": "markdown",
   "metadata": {},
   "source": [
    "Below  is an example of what a power-law distribution looks like for different values of $c$ and $a$.   \n",
    "First you can see it in linear scale (left), then in log scale (center, right), which transforms the function into a line.\n",
    "\n",
    "<img src=\"fig/power_params.png\" style=\"width: 1000px;\"/>\n",
    "\n",
    "\n",
    "In linear scale:\n",
    "- As $c$ gets bigger, the bend is more \"exaggerated\" because $f(k)$ falls faster with $k$ (left). \n",
    "\n",
    "In log scale, we see:\n",
    "- $c$ determines the slope (center)\n",
    "- $a$ determines the intercept (right)"
   ]
  },
  {
   "cell_type": "markdown",
   "metadata": {},
   "source": [
    "## How does this work with real data?\n",
    "If we use the example of the songs data, if you have some sample of points that looks like the purple dots on the bottom left, you would first log transform it. Then, you could figure out the slope (center) and intercept (right) to estimate its distribution. \n",
    "\n",
    "- Changing the value of $a$ will essentially change the estimated number of songs with the least # of downloads (where the line hits the y axis). \n",
    "- Changing the value of $c$ will essentially change how fast the estimated number of songs falls, as you increase the download count (the slope of the line)."
   ]
  },
  {
   "cell_type": "markdown",
   "metadata": {},
   "source": [
    "\n",
    "<img src=\"fig/power_samplefit.png\" style=\"width: 1000px;\"/>"
   ]
  }
 ],
 "metadata": {
  "kernelspec": {
   "display_name": "Python 3",
   "language": "python",
   "name": "python3"
  },
  "language_info": {
   "codemirror_mode": {
    "name": "ipython",
    "version": 3
   },
   "file_extension": ".py",
   "mimetype": "text/x-python",
   "name": "python",
   "nbconvert_exporter": "python",
   "pygments_lexer": "ipython3",
   "version": "3.7.0"
  },
  "latex_envs": {
   "LaTeX_envs_menu_present": true,
   "autoclose": false,
   "autocomplete": true,
   "bibliofile": "biblio.bib",
   "cite_by": "apalike",
   "current_citInitial": 1,
   "eqLabelWithNumbers": true,
   "eqNumInitial": 1,
   "hotkeys": {
    "equation": "Ctrl-E",
    "itemize": "Ctrl-I"
   },
   "labels_anchors": false,
   "latex_user_defs": false,
   "report_style_numbering": false,
   "user_envs_cfg": false
  },
  "toc": {
   "base_numbering": 1,
   "nav_menu": {},
   "number_sections": true,
   "sideBar": true,
   "skip_h1_title": false,
   "title_cell": "Table of Contents",
   "title_sidebar": "Contents",
   "toc_cell": false,
   "toc_position": {},
   "toc_section_display": true,
   "toc_window_display": false
  },
  "varInspector": {
   "cols": {
    "lenName": 16,
    "lenType": 16,
    "lenVar": 40
   },
   "kernels_config": {
    "python": {
     "delete_cmd_postfix": "",
     "delete_cmd_prefix": "del ",
     "library": "var_list.py",
     "varRefreshCmd": "print(var_dic_list())"
    },
    "r": {
     "delete_cmd_postfix": ") ",
     "delete_cmd_prefix": "rm(",
     "library": "var_list.r",
     "varRefreshCmd": "cat(var_dic_list()) "
    }
   },
   "types_to_exclude": [
    "module",
    "function",
    "builtin_function_or_method",
    "instance",
    "_Feature"
   ],
   "window_display": false
  }
 },
 "nbformat": 4,
 "nbformat_minor": 2
}
